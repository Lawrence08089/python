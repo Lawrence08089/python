{
 "cells": [
  {
   "cell_type": "code",
   "execution_count": 1,
   "metadata": {},
   "outputs": [],
   "source": [
    "fruits=[\"香蕉\",\"蘋果\",\"西瓜\",\"芭蕉\",\"柳橙\"]"
   ]
  },
  {
   "cell_type": "code",
   "execution_count": null,
   "metadata": {},
   "outputs": [
    {
     "name": "stdout",
     "output_type": "stream",
     "text": [
      "串列元素有: ['香蕉', '蘋果', '西瓜', '芭蕉', '柳橙']\n",
      "刪除的水果:蘋果\n",
      "串列元素有: ['香蕉', '西瓜', '芭蕉', '柳橙']\n",
      "刪除的水果:香蕉\n",
      "串列元素有: ['西瓜', '芭蕉', '柳橙']\n",
      "刪除的水果:watermelon\n",
      "watermelon 不再串列中\n",
      "串列元素有: ['西瓜', '芭蕉', '柳橙']\n"
     ]
    }
   ],
   "source": [
    "while True:\n",
    "    print(\"串列元素有:\",fruits)\n",
    "    fruit=input(\"刪除的水果:\")\n",
    "    if(fruit==\"\"):\n",
    "        break\n",
    "    n=fruits.count(fruit)\n",
    "    if(n>0):\n",
    "        fruits.remove(fruit)\n",
    "    else:\n",
    "        print(fruit,\"不再串列中\")"
   ]
  }
 ],
 "metadata": {
  "kernelspec": {
   "display_name": "Python 3",
   "language": "python",
   "name": "python3"
  },
  "language_info": {
   "codemirror_mode": {
    "name": "ipython",
    "version": 3
   },
   "file_extension": ".py",
   "mimetype": "text/x-python",
   "name": "python",
   "nbconvert_exporter": "python",
   "pygments_lexer": "ipython3",
   "version": "3.7.6"
  }
 },
 "nbformat": 4,
 "nbformat_minor": 4
}
