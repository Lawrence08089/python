{
 "cells": [
  {
   "cell_type": "code",
   "execution_count": 1,
   "metadata": {},
   "outputs": [],
   "source": [
    "import time as t"
   ]
  },
  {
   "cell_type": "code",
   "execution_count": 2,
   "metadata": {},
   "outputs": [],
   "source": [
    "week=[\"一\",\"二\",\"三\",\"四\",\"五\",\"六\",\"日\"]"
   ]
  },
  {
   "cell_type": "code",
   "execution_count": 3,
   "metadata": {},
   "outputs": [],
   "source": [
    "dst=[\"無日光節約時間\",\"有日光節約時間\"]"
   ]
  },
  {
   "cell_type": "code",
   "execution_count": 4,
   "metadata": {
    "scrolled": true
   },
   "outputs": [],
   "source": [
    "time1 = t.localtime()\n",
    "show=\"現在時刻:中華民國\"+str(int(time1.tm_year)-1911)+\"年\"\n",
    "show+=str(time1.tm_mon)+\"月\"+ str(time1.tm_mday)+\"日\"\n",
    "show+=str(time1.tm_hour)+\"點\"+ str(time1.tm_min)+\"分\"\n",
    "show+=str(time1.tm_sec)+\"秒  星期\" +week [time1.tm_wday] +\"\\n\"\n",
    "show+=\"今天是今年的第\"+str(time1.tm_yday)+\"天,此地\"+dst[time1. tm_isdst]"
   ]
  },
  {
   "cell_type": "code",
   "execution_count": 5,
   "metadata": {},
   "outputs": [
    {
     "name": "stdout",
     "output_type": "stream",
     "text": [
      "現在時刻:中華民國109年6月9日22點23分50秒  星期二\n",
      "今天是今年的第161天,此地無日光節約時間\n"
     ]
    }
   ],
   "source": [
    "print(show)"
   ]
  },
  {
   "cell_type": "code",
   "execution_count": null,
   "metadata": {},
   "outputs": [],
   "source": []
  }
 ],
 "metadata": {
  "kernelspec": {
   "display_name": "Python 3",
   "language": "python",
   "name": "python3"
  },
  "language_info": {
   "codemirror_mode": {
    "name": "ipython",
    "version": 3
   },
   "file_extension": ".py",
   "mimetype": "text/x-python",
   "name": "python",
   "nbconvert_exporter": "python",
   "pygments_lexer": "ipython3",
   "version": "3.7.6"
  }
 },
 "nbformat": 4,
 "nbformat_minor": 4
}
