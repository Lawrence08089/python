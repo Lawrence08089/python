{
 "cells": [
  {
   "cell_type": "code",
   "execution_count": 1,
   "metadata": {},
   "outputs": [],
   "source": [
    "listname=[\"王小名\",\"林大名\",\"陳時中\"]"
   ]
  },
  {
   "cell_type": "code",
   "execution_count": 2,
   "metadata": {},
   "outputs": [],
   "source": [
    "listchinese=[100,74,82]"
   ]
  },
  {
   "cell_type": "code",
   "execution_count": 3,
   "metadata": {},
   "outputs": [],
   "source": [
    "listmath=[88,87,65]"
   ]
  },
  {
   "cell_type": "code",
   "execution_count": 4,
   "metadata": {},
   "outputs": [],
   "source": [
    "listenglish=[86,87,100]"
   ]
  },
  {
   "cell_type": "code",
   "execution_count": 5,
   "metadata": {},
   "outputs": [
    {
     "name": "stdout",
     "output_type": "stream",
     "text": [
      "姓名     座號  國文  數學  英文\n",
      "王小名     1   100    88    86\n",
      "林大名     2    74    87    87\n",
      "陳時中     3    82    65   100\n"
     ]
    }
   ],
   "source": [
    "print(\"姓名     座號  國文  數學  英文\")\n",
    "for i in range(0,3):\n",
    "    print(listname[i].ljust(5),str(i+1).rjust(3),str(listchinese[i]).rjust(5),str(listmath[i]).rjust(5),str(listenglish[i]).rjust(5))\n"
   ]
  }
 ],
 "metadata": {
  "kernelspec": {
   "display_name": "Python 3",
   "language": "python",
   "name": "python3"
  },
  "language_info": {
   "codemirror_mode": {
    "name": "ipython",
    "version": 3
   },
   "file_extension": ".py",
   "mimetype": "text/x-python",
   "name": "python",
   "nbconvert_exporter": "python",
   "pygments_lexer": "ipython3",
   "version": "3.7.6"
  }
 },
 "nbformat": 4,
 "nbformat_minor": 4
}
