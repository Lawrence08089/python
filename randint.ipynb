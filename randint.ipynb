{
 "cells": [
  {
   "cell_type": "code",
   "execution_count": 1,
   "metadata": {},
   "outputs": [],
   "source": [
    "import random as r"
   ]
  },
  {
   "cell_type": "code",
   "execution_count": 4,
   "metadata": {},
   "outputs": [
    {
     "name": "stdout",
     "output_type": "stream",
     "text": [
      "按任意鍵再按enter擲骰，直接按enter結束:a\n",
      "你擲到4\n",
      "按任意鍵再按enter擲骰，直接按enter結束:s\n",
      "你擲到3\n",
      "按任意鍵再按enter擲骰，直接按enter結束:d\n",
      "你擲到3\n",
      "按任意鍵再按enter擲骰，直接按enter結束:f\n",
      "你擲到2\n",
      "按任意鍵再按enter擲骰，直接按enter結束:\n",
      "結束\n"
     ]
    }
   ],
   "source": [
    "while True:\n",
    "    inkey=input(\"按任意鍵再按enter擲骰，直接按enter結束:\")\n",
    "    if len(inkey)>0:\n",
    "        num=r.randint(1,6)\n",
    "        print(\"你擲到\"+str(num))\n",
    "    else:\n",
    "        print(\"結束\")\n",
    "        break"
   ]
  },
  {
   "cell_type": "code",
   "execution_count": null,
   "metadata": {},
   "outputs": [],
   "source": []
  }
 ],
 "metadata": {
  "kernelspec": {
   "display_name": "Python 3",
   "language": "python",
   "name": "python3"
  },
  "language_info": {
   "codemirror_mode": {
    "name": "ipython",
    "version": 3
   },
   "file_extension": ".py",
   "mimetype": "text/x-python",
   "name": "python",
   "nbconvert_exporter": "python",
   "pygments_lexer": "ipython3",
   "version": "3.7.6"
  }
 },
 "nbformat": 4,
 "nbformat_minor": 4
}
