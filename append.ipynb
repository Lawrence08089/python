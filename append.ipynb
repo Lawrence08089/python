{
 "cells": [
  {
   "cell_type": "code",
   "execution_count": 1,
   "metadata": {},
   "outputs": [],
   "source": [
    "scores=[]"
   ]
  },
  {
   "cell_type": "code",
   "execution_count": 2,
   "metadata": {},
   "outputs": [],
   "source": [
    "total=inscore=0"
   ]
  },
  {
   "cell_type": "code",
   "execution_count": 3,
   "metadata": {},
   "outputs": [
    {
     "name": "stdout",
     "output_type": "stream",
     "text": [
      "請輸入學生成績:85\n",
      "請輸入學生成績:90\n",
      "請輸入學生成績:95\n",
      "請輸入學生成績:-1\n",
      "共有3位學生\n"
     ]
    }
   ],
   "source": [
    "while(inscore!=-1):\n",
    "    inscore=int(input(\"請輸入學生成績:\"))\n",
    "    if(inscore!=-1):\n",
    "        scores.append(inscore)\n",
    "print(\"共有%d位學生\"%(len(scores)))        "
   ]
  },
  {
   "cell_type": "code",
   "execution_count": 4,
   "metadata": {},
   "outputs": [],
   "source": [
    "for score in scores:\n",
    "    total+=score"
   ]
  },
  {
   "cell_type": "code",
   "execution_count": 5,
   "metadata": {},
   "outputs": [],
   "source": [
    "average=total/(len(scores))"
   ]
  },
  {
   "cell_type": "code",
   "execution_count": 6,
   "metadata": {},
   "outputs": [
    {
     "name": "stdout",
     "output_type": "stream",
     "text": [
      "總成績:270分，平均成績:90.00 分\n"
     ]
    }
   ],
   "source": [
    "print(\"總成績:%d分，平均成績:%5.2f 分\"%(total,average))"
   ]
  }
 ],
 "metadata": {
  "kernelspec": {
   "display_name": "Python 3",
   "language": "python",
   "name": "python3"
  },
  "language_info": {
   "codemirror_mode": {
    "name": "ipython",
    "version": 3
   },
   "file_extension": ".py",
   "mimetype": "text/x-python",
   "name": "python",
   "nbconvert_exporter": "python",
   "pygments_lexer": "ipython3",
   "version": "3.7.6"
  }
 },
 "nbformat": 4,
 "nbformat_minor": 4
}
