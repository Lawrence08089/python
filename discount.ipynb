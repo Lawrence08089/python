{
 "cells": [
  {
   "cell_type": "code",
   "execution_count": 1,
   "metadata": {},
   "outputs": [
    {
     "name": "stdout",
     "output_type": "stream",
     "text": [
      "請輸入購物金額:80000\n",
      "68000.0 元"
     ]
    }
   ],
   "source": [
    "money=int(input(\"請輸入購物金額:\"))\n",
    "if(money>=10000):\n",
    "    if(money>=100000):\n",
    "        print(money*0.8,end=\" 元\")\n",
    "    elif(money>=50000):\n",
    "        print(money*0.85,end=\" 元\")\n",
    "    elif(money>=30000):\n",
    "        print(money*0.9,end=\" 元\")\n",
    "    else:\n",
    "        print(money*0.95,end=\" 元\")\n",
    "else:\n",
    "    print(money,end=\" 元\")"
   ]
  }
 ],
 "metadata": {
  "kernelspec": {
   "display_name": "Python 3",
   "language": "python",
   "name": "python3"
  },
  "language_info": {
   "codemirror_mode": {
    "name": "ipython",
    "version": 3
   },
   "file_extension": ".py",
   "mimetype": "text/x-python",
   "name": "python",
   "nbconvert_exporter": "python",
   "pygments_lexer": "ipython3",
   "version": "3.7.6"
  }
 },
 "nbformat": 4,
 "nbformat_minor": 4
}
