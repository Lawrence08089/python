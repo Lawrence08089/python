{
 "cells": [
  {
   "cell_type": "code",
   "execution_count": 1,
   "metadata": {},
   "outputs": [
    {
     "name": "stdout",
     "output_type": "stream",
     "text": [
      "請輸入成績:85\n"
     ]
    }
   ],
   "source": [
    "score = input(\"請輸入成績:\")"
   ]
  },
  {
   "cell_type": "code",
   "execution_count": 2,
   "metadata": {},
   "outputs": [
    {
     "name": "stdout",
     "output_type": "stream",
     "text": [
      "甲等\n"
     ]
    }
   ],
   "source": [
    "if(int(score) >= 90):\n",
    "    print(\"優等\")\n",
    "elif(int(score) >= 80):\n",
    "    print(\"甲等\")\n",
    "elif(int(score) >= 70):\n",
    "    print(\"乙等\")\n",
    "elif(int(score) >= 60):\n",
    "    print(\"丙等\")\n",
    "else:\n",
    "    print(\"丁等\")"
   ]
  }
 ],
 "metadata": {
  "kernelspec": {
   "display_name": "Python 3",
   "language": "python",
   "name": "python3"
  },
  "language_info": {
   "codemirror_mode": {
    "name": "ipython",
    "version": 3
   },
   "file_extension": ".py",
   "mimetype": "text/x-python",
   "name": "python",
   "nbconvert_exporter": "python",
   "pygments_lexer": "ipython3",
   "version": "3.7.6"
  }
 },
 "nbformat": 4,
 "nbformat_minor": 4
}
