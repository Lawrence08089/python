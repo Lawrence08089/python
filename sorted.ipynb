{
 "cells": [
  {
   "cell_type": "code",
   "execution_count": 1,
   "metadata": {},
   "outputs": [],
   "source": [
    "scores=[]"
   ]
  },
  {
   "cell_type": "code",
   "execution_count": 2,
   "metadata": {},
   "outputs": [
    {
     "name": "stdout",
     "output_type": "stream",
     "text": [
      "輸入學生成績:80\n",
      "輸入學生成績:70\n",
      "輸入學生成績:60\n",
      "輸入學生成績:90\n",
      "輸入學生成績:\n"
     ]
    }
   ],
   "source": [
    "while True:\n",
    "    inscore=input(\"輸入學生成績:\")\n",
    "    if(inscore==\"\"):\n",
    "        break\n",
    "    scores.append(int(inscore))    "
   ]
  },
  {
   "cell_type": "code",
   "execution_count": 3,
   "metadata": {},
   "outputs": [
    {
     "name": "stdout",
     "output_type": "stream",
     "text": [
      "[90, 80, 70, 60]\n"
     ]
    }
   ],
   "source": [
    "scores2=sorted(scores,reverse=True)\n",
    "print(scores2)"
   ]
  }
 ],
 "metadata": {
  "kernelspec": {
   "display_name": "Python 3",
   "language": "python",
   "name": "python3"
  },
  "language_info": {
   "codemirror_mode": {
    "name": "ipython",
    "version": 3
   },
   "file_extension": ".py",
   "mimetype": "text/x-python",
   "name": "python",
   "nbconvert_exporter": "python",
   "pygments_lexer": "ipython3",
   "version": "3.7.6"
  }
 },
 "nbformat": 4,
 "nbformat_minor": 4
}
